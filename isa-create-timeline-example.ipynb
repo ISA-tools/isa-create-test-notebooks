{
 "cells": [
  {
   "cell_type": "markdown",
   "metadata": {},
   "source": [
    "# Isa Create Mode\n",
    "Example"
   ]
  },
  {
   "cell_type": "code",
   "execution_count": 1,
   "metadata": {},
   "outputs": [],
   "source": [
    "from isatools.model import *\n",
    "from isatools.create.models import *"
   ]
  },
  {
   "cell_type": "markdown",
   "metadata": {},
   "source": [
    "# Treatments\n",
    "Here we will try to create a few treatments:"
   ]
  },
  {
   "cell_type": "code",
   "execution_count": 5,
   "metadata": {},
   "outputs": [],
   "source": [
    "NAME = 'name'\n",
    "treatment_0_conf = dict(TYPE=INTERVENTIONS['CHEMICAL'], FACTORS_0_VALUE='nitroglycerin',FACTORS_1_VALUE=5, FACTORS_1_UNIT='kg/m^3', \n",
    "                            FACTORS_2_VALUE=100.0, FACTORS_2_UNIT = 's')\n",
    "treatment_1_conf = dict(TYPE=INTERVENTIONS['CHEMICAL'], FACTORS_0_VALUE='aether',FACTORS_1_VALUE=1.25, FACTORS_1_UNIT='g', \n",
    "                            FACTORS_2_VALUE=60000.0, FACTORS_2_UNIT = 's')\n",
    "treatment_2_conf = dict(TYPE=INTERVENTIONS['RADIOLOGICAL'], FACTORS_0_VALUE='gamma ray',FACTORS_1_VALUE=10, FACTORS_1_UNIT='gy', \n",
    "                            FACTORS_2_VALUE=60000.0, FACTORS_2_UNIT = 's')\n",
    "treatment_3_conf = dict(TYPE=INTERVENTIONS['DIET'], FACTORS_0_VALUE='glucose',FACTORS_1_VALUE=0.25, FACTORS_1_UNIT='kg', \n",
    "                            FACTORS_2_VALUE=30, FACTORS_2_UNIT = 'day')"
   ]
  },
  {
   "cell_type": "code",
   "execution_count": 6,
   "metadata": {},
   "outputs": [
    {
     "data": {
      "text/plain": [
       "{'TYPE': 'dietary intervention',\n",
       " 'FACTORS_0_VALUE': 'glucose',\n",
       " 'FACTORS_1_VALUE': 0.25,\n",
       " 'FACTORS_1_UNIT': 'kg',\n",
       " 'FACTORS_2_VALUE': 30,\n",
       " 'FACTORS_2_UNIT': 'day'}"
      ]
     },
     "execution_count": 6,
     "metadata": {},
     "output_type": "execute_result"
    }
   ],
   "source": [
    "treatment_3_conf"
   ]
  },
  {
   "cell_type": "code",
   "execution_count": 7,
   "metadata": {},
   "outputs": [],
   "source": [
    "treatments = [Treatment(treatment_type=conf.get('TYPE', None), factor_values=(\n",
    "    FactorValue(factor_name=BASE_FACTORS_[0][NAME], value=conf['FACTORS_0_VALUE']),\n",
    "    FactorValue(factor_name=BASE_FACTORS_[1][NAME], value=conf['FACTORS_1_VALUE'], unit=conf['FACTORS_1_UNIT']),\n",
    "    FactorValue(factor_name=BASE_FACTORS_[2][NAME], value=conf['FACTORS_2_VALUE'], unit=conf['FACTORS_2_UNIT'])\n",
    ")) for conf in [treatment_0_conf, treatment_1_conf, treatment_2_conf, treatment_3_conf]]\n"
   ]
  },
  {
   "cell_type": "code",
   "execution_count": 8,
   "metadata": {},
   "outputs": [
    {
     "data": {
      "text/plain": [
       "[Treatment(treatment_type=chemical intervention, factor_values=[isatools.model.FactorValue(factor_name='AGENT', value='nitroglycerin', unit=None), isatools.model.FactorValue(factor_name='DURATION', value=100.0, unit='s'), isatools.model.FactorValue(factor_name='INTENSITY', value=5, unit='kg/m^3')], group_size=0),\n",
       " Treatment(treatment_type=chemical intervention, factor_values=[isatools.model.FactorValue(factor_name='AGENT', value='aether', unit=None), isatools.model.FactorValue(factor_name='DURATION', value=60000.0, unit='s'), isatools.model.FactorValue(factor_name='INTENSITY', value=1.25, unit='g')], group_size=0),\n",
       " Treatment(treatment_type=radiological intervention, factor_values=[isatools.model.FactorValue(factor_name='AGENT', value='gamma ray', unit=None), isatools.model.FactorValue(factor_name='DURATION', value=60000.0, unit='s'), isatools.model.FactorValue(factor_name='INTENSITY', value=10, unit='gy')], group_size=0),\n",
       " Treatment(treatment_type=dietary intervention, factor_values=[isatools.model.FactorValue(factor_name='AGENT', value='glucose', unit=None), isatools.model.FactorValue(factor_name='DURATION', value=30, unit='day'), isatools.model.FactorValue(factor_name='INTENSITY', value=0.25, unit='kg')], group_size=0)]"
      ]
     },
     "execution_count": 8,
     "metadata": {},
     "output_type": "execute_result"
    }
   ],
   "source": [
    "treatments"
   ]
  },
  {
   "cell_type": "markdown",
   "metadata": {},
   "source": [
    "## Study Epochs:\n",
    "Here we will create three epochs. The central epoch will have two concomitant treatments."
   ]
  },
  {
   "cell_type": "code",
   "execution_count": 9,
   "metadata": {},
   "outputs": [],
   "source": [
    "sample_plan = SampleAssayPlan()"
   ]
  },
  {
   "cell_type": "code",
   "execution_count": 10,
   "metadata": {},
   "outputs": [
    {
     "data": {
      "text/plain": [
       "isatools.create.models.SampleAssayPlan(group_size=0, sample_plan=set(), assay_plan=set(), sample_qc_plan=set())"
      ]
     },
     "execution_count": 10,
     "metadata": {},
     "output_type": "execute_result"
    }
   ],
   "source": [
    "sample_plan"
   ]
  },
  {
   "cell_type": "code",
   "execution_count": 11,
   "metadata": {},
   "outputs": [],
   "source": [
    "epoch_0 = StudyEpoch(name='first', rank=0, treatments=(treatments[0],), sample_plan=sample_plan)\n",
    "epoch_1 = StudyEpoch(name='second', rank=1, treatments=(treatments[1], treatments[2]), sample_plan=sample_plan)\n",
    "epoch_2 = StudyEpoch(name='third', rank=1, treatments=(treatments[2], treatments[2]), sample_plan=sample_plan)"
   ]
  },
  {
   "cell_type": "code",
   "execution_count": 12,
   "metadata": {},
   "outputs": [
    {
     "data": {
      "text/plain": [
       "isatools.create.models.StudyEpoch(name=first, rank=0, treatments=1, sample_plan=isatools.create.models.SampleAssayPlan(group_size=0, sample_plan=set(), assay_plan=set(), sample_qc_plan=set()))"
      ]
     },
     "execution_count": 12,
     "metadata": {},
     "output_type": "execute_result"
    }
   ],
   "source": [
    "epoch_0"
   ]
  },
  {
   "cell_type": "code",
   "execution_count": 13,
   "metadata": {},
   "outputs": [
    {
     "data": {
      "text/plain": [
       "isatools.create.models.StudyEpoch(name=second, rank=1, treatments=2, sample_plan=isatools.create.models.SampleAssayPlan(group_size=0, sample_plan=set(), assay_plan=set(), sample_qc_plan=set()))"
      ]
     },
     "execution_count": 13,
     "metadata": {},
     "output_type": "execute_result"
    }
   ],
   "source": [
    "epoch_1"
   ]
  },
  {
   "cell_type": "code",
   "execution_count": 14,
   "metadata": {},
   "outputs": [
    {
     "data": {
      "text/plain": [
       "isatools.create.models.StudyEpoch(name=third, rank=1, treatments=1, sample_plan=isatools.create.models.SampleAssayPlan(group_size=0, sample_plan=set(), assay_plan=set(), sample_qc_plan=set()))"
      ]
     },
     "execution_count": 14,
     "metadata": {},
     "output_type": "execute_result"
    }
   ],
   "source": [
    "epoch_2"
   ]
  },
  {
   "cell_type": "markdown",
   "metadata": {},
   "source": [
    "# Study Design\n",
    "Here we compose a study design with the three study epochs"
   ]
  },
  {
   "cell_type": "code",
   "execution_count": 15,
   "metadata": {},
   "outputs": [],
   "source": [
    "study_design =  StudyDesign()"
   ]
  },
  {
   "cell_type": "markdown",
   "metadata": {},
   "source": [
    "# Study Design Factory\n",
    "Here we use a `StudyDesignFactory` class to generate study designs:"
   ]
  },
  {
   "cell_type": "code",
   "execution_count": 16,
   "metadata": {},
   "outputs": [],
   "source": [
    "factory = StudyDesignFactory(treatments, sample_plan)"
   ]
  },
  {
   "cell_type": "code",
   "execution_count": 17,
   "metadata": {},
   "outputs": [
    {
     "data": {
      "text/plain": [
       "<isatools.create.models.StudyDesignFactory at 0x112c26710>"
      ]
     },
     "execution_count": 17,
     "metadata": {},
     "output_type": "execute_result"
    }
   ],
   "source": [
    "factory"
   ]
  },
  {
   "cell_type": "code",
   "execution_count": 18,
   "metadata": {},
   "outputs": [],
   "source": [
    "crossover_design = factory.compute_crossover_design(screen=True, follow_up=True)\n",
    "parallel_design = factory.compute_parallel_design(screen=True, follow_up=True)"
   ]
  },
  {
   "cell_type": "code",
   "execution_count": 19,
   "metadata": {},
   "outputs": [
    {
     "data": {
      "text/plain": [
       "[isatools.create.models.StudyArm(name=arm_0, epochs=['epoch_0']),\n",
       " isatools.create.models.StudyArm(name=arm_1, epochs=['epoch_0']),\n",
       " isatools.create.models.StudyArm(name=arm_2, epochs=['epoch_0']),\n",
       " isatools.create.models.StudyArm(name=arm_3, epochs=['epoch_0'])]"
      ]
     },
     "execution_count": 19,
     "metadata": {},
     "output_type": "execute_result"
    }
   ],
   "source": [
    "crossover_design"
   ]
  },
  {
   "cell_type": "code",
   "execution_count": 20,
   "metadata": {},
   "outputs": [],
   "source": [
    "study_design = StudyDesign(crossover_design)"
   ]
  },
  {
   "cell_type": "code",
   "execution_count": 21,
   "metadata": {},
   "outputs": [
    {
     "data": {
      "text/plain": [
       "isatools.create.models.StudyDesign(study_arms=['arm_0', 'arm_1', 'arm_2', 'arm_3'])"
      ]
     },
     "execution_count": 21,
     "metadata": {},
     "output_type": "execute_result"
    }
   ],
   "source": [
    "study_design"
   ]
  },
  {
   "cell_type": "code",
   "execution_count": null,
   "metadata": {},
   "outputs": [],
   "source": []
  }
 ],
 "metadata": {
  "kernelspec": {
   "display_name": "Python 3",
   "language": "python",
   "name": "python3"
  },
  "language_info": {
   "codemirror_mode": {
    "name": "ipython",
    "version": 3
   },
   "file_extension": ".py",
   "mimetype": "text/x-python",
   "name": "python",
   "nbconvert_exporter": "python",
   "pygments_lexer": "ipython3",
   "version": "3.7.2"
  }
 },
 "nbformat": 4,
 "nbformat_minor": 2
}
